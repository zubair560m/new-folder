{
 "cells": [
  {
   "cell_type": "code",
   "execution_count": 1,
   "metadata": {},
   "outputs": [
    {
     "data": {
      "text/plain": [
       "'sddfsfssdf'"
      ]
     },
     "execution_count": 1,
     "metadata": {},
     "output_type": "execute_result"
    }
   ],
   "source": [
    "def remove_punctuations(n):\n",
    "    punctuations = \"!\\\"#$%&'()*+,-./:;<=>?@[\\]^_`{|}~\"\n",
    "    output_str = \"\"\n",
    "    for i in n:\n",
    "        if i not in punctuations:\n",
    "            output_str += i\n",
    "    return output_str\n",
    "\n",
    "n = \"sdd,f,sf.ss.df?\"\n",
    "remove_punctuations(n)"
   ]
  },
  {
   "cell_type": "code",
   "execution_count": 10,
   "metadata": {},
   "outputs": [
    {
     "name": "stdout",
     "output_type": "stream",
     "text": [
      "are hi well you\n"
     ]
    }
   ],
   "source": [
    "\n",
    "def sort(user_input):\n",
    "    words = user_input.split()\n",
    "    sorted_words = []\n",
    "    for i in range(len(words)):\n",
    "        x = i\n",
    "        for j in range(i+1, len(words)):\n",
    "            if words[j][0].lower() < words[x][0].lower():\n",
    "                x = j\n",
    "        words[i], words[x] = words[x], words[i]\n",
    "    \n",
    "    sorted_text = \"\"\n",
    "    for i in words:\n",
    "        sorted_text += i + \" \"\n",
    "    \n",
    "    return sorted_text.strip()\n",
    "\n",
    "user_input = input('Write something: ')\n",
    "print(sort(user_input))\n",
    "\n",
    "\n"
   ]
  },
  {
   "cell_type": "code",
   "execution_count": 11,
   "metadata": {},
   "outputs": [
    {
     "name": "stdout",
     "output_type": "stream",
     "text": [
      "Invalid card\n"
     ]
    }
   ],
   "source": [
    "def luhn(card_number):\n",
    "    if len(card_number) < 16 or len(card_number) > 16:\n",
    "        return 'Card number is not complete'\n",
    "\n",
    "    reverse_num = card_number[::-1]\n",
    "    sum_num = 0\n",
    "\n",
    "    for i, digit in enumerate(reverse_num):\n",
    "        digit = int(digit)\n",
    "        if i % 2 != 0:\n",
    "            digit *= 2\n",
    "            if digit > 9:\n",
    "                digit -= 9\n",
    "        sum_num += digit\n",
    "\n",
    "    return 'Valid card' if sum_num % 10 == 0 else 'Invalid card'\n",
    "\n",
    "card_number = input('Enter your card number: ')\n",
    "print(luhn(card_number))\n"
   ]
  }
 ],
 "metadata": {
  "kernelspec": {
   "display_name": "base",
   "language": "python",
   "name": "python3"
  },
  "language_info": {
   "codemirror_mode": {
    "name": "ipython",
    "version": 3
   },
   "file_extension": ".py",
   "mimetype": "text/x-python",
   "name": "python",
   "nbconvert_exporter": "python",
   "pygments_lexer": "ipython3",
   "version": "3.11.5"
  }
 },
 "nbformat": 4,
 "nbformat_minor": 2
}
